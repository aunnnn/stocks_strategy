{
 "cells": [
  {
   "cell_type": "code",
   "execution_count": 240,
   "metadata": {
    "collapsed": false
   },
   "outputs": [],
   "source": [
    "import pandas as pd\n",
    "import numpy as np\n",
    "import math\n",
    "import os\n",
    "\n",
    "import matplotlib.pyplot as plt\n",
    "from matplotlib import cm\n",
    "from mpl_toolkits.mplot3d import Axes3D\n",
    "\n",
    "import ipywidgets as widgets\n",
    "from ipywidgets import interact, interactive\n",
    "from IPython.display import display"
   ]
  },
  {
   "cell_type": "code",
   "execution_count": 241,
   "metadata": {
    "collapsed": false
   },
   "outputs": [],
   "source": [
    "%matplotlib inline"
   ]
  },
  {
   "cell_type": "code",
   "execution_count": 242,
   "metadata": {
    "collapsed": false
   },
   "outputs": [],
   "source": [
    "df = pd.read_csv(\"price_data.csv\")\n",
    "\n",
    "# Set first column name\n",
    "df.columns.values[0] = \"Stock\"\n",
    "\n",
    "# Make that column indexes (row)\n",
    "df = df.set_index('Stock')\n",
    "\n",
    "# Make columns datetime\n",
    "df.columns = pd.to_datetime(df.columns)\n",
    "\n",
    "# Make all numeric\n",
    "df = df.apply(pd.to_numeric, errors=\"coerce\")\n",
    "\n",
    "# drop row if all NaN\n",
    "df.dropna(how='all', inplace=True)\n",
    "\n",
    "# drop column if all NaN\n",
    "df.dropna(how='all', axis=1, inplace=True)"
   ]
  },
  {
   "cell_type": "code",
   "execution_count": 243,
   "metadata": {
    "collapsed": false
   },
   "outputs": [
    {
     "data": {
      "text/html": [
       "<div>\n",
       "<style scoped>\n",
       "    .dataframe tbody tr th:only-of-type {\n",
       "        vertical-align: middle;\n",
       "    }\n",
       "\n",
       "    .dataframe tbody tr th {\n",
       "        vertical-align: top;\n",
       "    }\n",
       "\n",
       "    .dataframe thead th {\n",
       "        text-align: right;\n",
       "    }\n",
       "</style>\n",
       "<table border=\"1\" class=\"dataframe\">\n",
       "  <thead>\n",
       "    <tr style=\"text-align: right;\">\n",
       "      <th></th>\n",
       "      <th>1990-01-31 00:00:00</th>\n",
       "      <th>1990-02-28 00:00:00</th>\n",
       "      <th>1990-03-30 00:00:00</th>\n",
       "      <th>1990-04-30 00:00:00</th>\n",
       "      <th>1990-05-31 00:00:00</th>\n",
       "      <th>1990-06-29 00:00:00</th>\n",
       "      <th>1990-07-31 00:00:00</th>\n",
       "      <th>1990-08-31 00:00:00</th>\n",
       "      <th>1990-09-28 00:00:00</th>\n",
       "      <th>1990-10-31 00:00:00</th>\n",
       "      <th>...</th>\n",
       "      <th>2017-09-29 00:00:00</th>\n",
       "      <th>2017-10-31 00:00:00</th>\n",
       "      <th>2017-11-30 00:00:00</th>\n",
       "      <th>2017-12-29 00:00:00</th>\n",
       "      <th>2018-01-31 00:00:00</th>\n",
       "      <th>2018-02-28 00:00:00</th>\n",
       "      <th>2018-03-30 00:00:00</th>\n",
       "      <th>2018-04-30 00:00:00</th>\n",
       "      <th>2018-05-31 00:00:00</th>\n",
       "      <th>2018-06-29 00:00:00</th>\n",
       "    </tr>\n",
       "    <tr>\n",
       "      <th>Stock</th>\n",
       "      <th></th>\n",
       "      <th></th>\n",
       "      <th></th>\n",
       "      <th></th>\n",
       "      <th></th>\n",
       "      <th></th>\n",
       "      <th></th>\n",
       "      <th></th>\n",
       "      <th></th>\n",
       "      <th></th>\n",
       "      <th></th>\n",
       "      <th></th>\n",
       "      <th></th>\n",
       "      <th></th>\n",
       "      <th></th>\n",
       "      <th></th>\n",
       "      <th></th>\n",
       "      <th></th>\n",
       "      <th></th>\n",
       "      <th></th>\n",
       "      <th></th>\n",
       "    </tr>\n",
       "  </thead>\n",
       "  <tbody>\n",
       "    <tr>\n",
       "      <th>2S TB Equity</th>\n",
       "      <td>NaN</td>\n",
       "      <td>NaN</td>\n",
       "      <td>NaN</td>\n",
       "      <td>NaN</td>\n",
       "      <td>NaN</td>\n",
       "      <td>NaN</td>\n",
       "      <td>NaN</td>\n",
       "      <td>NaN</td>\n",
       "      <td>NaN</td>\n",
       "      <td>NaN</td>\n",
       "      <td>...</td>\n",
       "      <td>4.27</td>\n",
       "      <td>3.98</td>\n",
       "      <td>4.39</td>\n",
       "      <td>4.44</td>\n",
       "      <td>4.30</td>\n",
       "      <td>4.20</td>\n",
       "      <td>4.00</td>\n",
       "      <td>3.78</td>\n",
       "      <td>3.5</td>\n",
       "      <td>3.06</td>\n",
       "    </tr>\n",
       "    <tr>\n",
       "      <th>A TB Equity</th>\n",
       "      <td>NaN</td>\n",
       "      <td>NaN</td>\n",
       "      <td>NaN</td>\n",
       "      <td>NaN</td>\n",
       "      <td>NaN</td>\n",
       "      <td>NaN</td>\n",
       "      <td>NaN</td>\n",
       "      <td>NaN</td>\n",
       "      <td>NaN</td>\n",
       "      <td>NaN</td>\n",
       "      <td>...</td>\n",
       "      <td>6.50</td>\n",
       "      <td>6.55</td>\n",
       "      <td>6.55</td>\n",
       "      <td>6.60</td>\n",
       "      <td>6.65</td>\n",
       "      <td>6.70</td>\n",
       "      <td>6.70</td>\n",
       "      <td>6.70</td>\n",
       "      <td>6.7</td>\n",
       "      <td>6.70</td>\n",
       "    </tr>\n",
       "    <tr>\n",
       "      <th>AAV TB Equity</th>\n",
       "      <td>NaN</td>\n",
       "      <td>NaN</td>\n",
       "      <td>NaN</td>\n",
       "      <td>NaN</td>\n",
       "      <td>NaN</td>\n",
       "      <td>NaN</td>\n",
       "      <td>NaN</td>\n",
       "      <td>NaN</td>\n",
       "      <td>NaN</td>\n",
       "      <td>NaN</td>\n",
       "      <td>...</td>\n",
       "      <td>6.55</td>\n",
       "      <td>6.40</td>\n",
       "      <td>6.20</td>\n",
       "      <td>6.15</td>\n",
       "      <td>5.70</td>\n",
       "      <td>5.55</td>\n",
       "      <td>5.15</td>\n",
       "      <td>5.85</td>\n",
       "      <td>5.5</td>\n",
       "      <td>5.00</td>\n",
       "    </tr>\n",
       "    <tr>\n",
       "      <th>ABICO TB Equity</th>\n",
       "      <td>NaN</td>\n",
       "      <td>NaN</td>\n",
       "      <td>NaN</td>\n",
       "      <td>NaN</td>\n",
       "      <td>NaN</td>\n",
       "      <td>NaN</td>\n",
       "      <td>NaN</td>\n",
       "      <td>NaN</td>\n",
       "      <td>NaN</td>\n",
       "      <td>NaN</td>\n",
       "      <td>...</td>\n",
       "      <td>9.75</td>\n",
       "      <td>9.75</td>\n",
       "      <td>9.20</td>\n",
       "      <td>9.45</td>\n",
       "      <td>8.85</td>\n",
       "      <td>7.85</td>\n",
       "      <td>7.95</td>\n",
       "      <td>7.85</td>\n",
       "      <td>6.3</td>\n",
       "      <td>5.95</td>\n",
       "    </tr>\n",
       "    <tr>\n",
       "      <th>ABPIF TB Equity</th>\n",
       "      <td>NaN</td>\n",
       "      <td>NaN</td>\n",
       "      <td>NaN</td>\n",
       "      <td>NaN</td>\n",
       "      <td>NaN</td>\n",
       "      <td>NaN</td>\n",
       "      <td>NaN</td>\n",
       "      <td>NaN</td>\n",
       "      <td>NaN</td>\n",
       "      <td>NaN</td>\n",
       "      <td>...</td>\n",
       "      <td>8.45</td>\n",
       "      <td>8.60</td>\n",
       "      <td>8.55</td>\n",
       "      <td>8.55</td>\n",
       "      <td>8.90</td>\n",
       "      <td>8.70</td>\n",
       "      <td>8.50</td>\n",
       "      <td>8.55</td>\n",
       "      <td>8.5</td>\n",
       "      <td>8.50</td>\n",
       "    </tr>\n",
       "  </tbody>\n",
       "</table>\n",
       "<p>5 rows × 342 columns</p>\n",
       "</div>"
      ],
      "text/plain": [
       "                 1990-01-31  1990-02-28  1990-03-30  1990-04-30  1990-05-31  \\\n",
       "Stock                                                                         \n",
       "2S TB Equity            NaN         NaN         NaN         NaN         NaN   \n",
       "A TB Equity             NaN         NaN         NaN         NaN         NaN   \n",
       "AAV TB Equity           NaN         NaN         NaN         NaN         NaN   \n",
       "ABICO TB Equity         NaN         NaN         NaN         NaN         NaN   \n",
       "ABPIF TB Equity         NaN         NaN         NaN         NaN         NaN   \n",
       "\n",
       "                 1990-06-29  1990-07-31  1990-08-31  1990-09-28  1990-10-31  \\\n",
       "Stock                                                                         \n",
       "2S TB Equity            NaN         NaN         NaN         NaN         NaN   \n",
       "A TB Equity             NaN         NaN         NaN         NaN         NaN   \n",
       "AAV TB Equity           NaN         NaN         NaN         NaN         NaN   \n",
       "ABICO TB Equity         NaN         NaN         NaN         NaN         NaN   \n",
       "ABPIF TB Equity         NaN         NaN         NaN         NaN         NaN   \n",
       "\n",
       "                    ...      2017-09-29  2017-10-31  2017-11-30  2017-12-29  \\\n",
       "Stock               ...                                                       \n",
       "2S TB Equity        ...            4.27        3.98        4.39        4.44   \n",
       "A TB Equity         ...            6.50        6.55        6.55        6.60   \n",
       "AAV TB Equity       ...            6.55        6.40        6.20        6.15   \n",
       "ABICO TB Equity     ...            9.75        9.75        9.20        9.45   \n",
       "ABPIF TB Equity     ...            8.45        8.60        8.55        8.55   \n",
       "\n",
       "                 2018-01-31  2018-02-28  2018-03-30  2018-04-30  2018-05-31  \\\n",
       "Stock                                                                         \n",
       "2S TB Equity           4.30        4.20        4.00        3.78         3.5   \n",
       "A TB Equity            6.65        6.70        6.70        6.70         6.7   \n",
       "AAV TB Equity          5.70        5.55        5.15        5.85         5.5   \n",
       "ABICO TB Equity        8.85        7.85        7.95        7.85         6.3   \n",
       "ABPIF TB Equity        8.90        8.70        8.50        8.55         8.5   \n",
       "\n",
       "                 2018-06-29  \n",
       "Stock                        \n",
       "2S TB Equity           3.06  \n",
       "A TB Equity            6.70  \n",
       "AAV TB Equity          5.00  \n",
       "ABICO TB Equity        5.95  \n",
       "ABPIF TB Equity        8.50  \n",
       "\n",
       "[5 rows x 342 columns]"
      ]
     },
     "execution_count": 243,
     "metadata": {},
     "output_type": "execute_result"
    }
   ],
   "source": [
    "df.head()"
   ]
  },
  {
   "cell_type": "code",
   "execution_count": 244,
   "metadata": {
    "collapsed": false
   },
   "outputs": [
    {
     "name": "stdout",
     "output_type": "stream",
     "text": [
      "Left with 743 stocks, and 342 date columns\n"
     ]
    }
   ],
   "source": [
    "print(\"Left with {} stocks, and {} date columns\".format(df.shape[0], df.shape[1]))"
   ]
  },
  {
   "cell_type": "code",
   "execution_count": 245,
   "metadata": {
    "collapsed": false
   },
   "outputs": [
    {
     "data": {
      "image/png": "[encoded data removed]",
      "text/plain": [
       "<matplotlib.figure.Figure at 0x11dae91d0>"
      ]
     },
     "metadata": {},
     "output_type": "display_data"
    }
   ],
   "source": [
    "@interact(index=(0,len(df.index)-1))\n",
    "def view_stocks(index=0):\n",
    "    i = index\n",
    "    df.iloc[i].plot(kind='line', title=df.index[i])"
   ]
  },
  {
   "cell_type": "markdown",
   "metadata": {},
   "source": [
    "## Strategy Calculation (Holding-Observing)\n",
    "\n",
    "o, h is period of time in months (o = observing/h = hoding)"
   ]
  },
  {
   "cell_type": "code",
   "execution_count": 246,
   "metadata": {
    "collapsed": false
   },
   "outputs": [],
   "source": [
    "# calculate sum of winner/loser deciles on holding period\n",
    "def sum_decile_winners_losers_hold(RO, RH, irange, debug_list=False):\n",
    "    i = irange\n",
    "    ro, rh = RO[:, i], RH[:, i]\n",
    "\n",
    "    # Concat o, h\n",
    "    oh = np.vstack([ro, rh]).T\n",
    "    \n",
    "    # remove rows that have nan\n",
    "    oh = oh[~np.isnan(oh).any(axis=1)]\n",
    "\n",
    "    # sort by winners in observing period\n",
    "    sorted_inds_desc = oh[:,0].argsort()[::-1]\n",
    "    oh = oh[sorted_inds_desc]\n",
    "\n",
    "    # get decile range\n",
    "    decile_num = math.ceil(oh.shape[0]/10)\n",
    "\n",
    "    winners = oh[:decile_num]\n",
    "    losers = oh[-decile_num:]\n",
    "    \n",
    "    if debug_list:        \n",
    "        return (winners, losers)\n",
    "\n",
    "    sum_winners_hold = winners[:,1].sum()\n",
    "    sum_losers_hold = losers[:,1].sum()\n",
    "    return (sum_winners_hold, sum_losers_hold)\n",
    "    \n",
    "\n",
    "# o, h is number of months\n",
    "def strategy(o, h, M):\n",
    "    nrows, ncols = M.shape\n",
    "    \n",
    "    oh_total_range = o+1+h\n",
    "    num_possible_ranges = ncols - oh_total_range + 1\n",
    "    \n",
    "    if num_possible_ranges <= 0:\n",
    "        raise ValueError('num_possible_ranges must > 0.')\n",
    "    \n",
    "    RO = np.zeros([nrows, num_possible_ranges])\n",
    "    RH = np.zeros([nrows, num_possible_ranges])\n",
    "\n",
    "    # for each stock\n",
    "    for r in range(nrows):\n",
    "        \n",
    "        # for each o/h range til the end\n",
    "        for ic in range(num_possible_ranges):\n",
    "            \n",
    "            m = M[r, ic:ic+oh_total_range] # get that range\n",
    "            if np.isnan(m).any(): # one value is nan -> ignore stock at this range\n",
    "                RO[r, ic] = np.nan\n",
    "                RH[r, ic] = np.nan\n",
    "                continue\n",
    "                \n",
    "            p0 = m[0] # start\n",
    "            p1 = m[o] # start - observe\n",
    "            p2 = m[o + h] # observe - hold\n",
    "            \n",
    "            # Handle divided by 0\n",
    "            if p0 == 0:\n",
    "                returnO = 0\n",
    "            else:\n",
    "                returnO = p1/p0 - 1\n",
    "                \n",
    "                \n",
    "            if p1 == 0:\n",
    "                returnH = 0\n",
    "            else:\n",
    "                returnH = p2/p1 - 1                \n",
    "                \n",
    "            RO[r, ic]= returnO\n",
    "            RH[r, ic] = returnH\n",
    "    \n",
    "    S_W = np.zeros(num_possible_ranges)\n",
    "    S_L = np.zeros(num_possible_ranges)\n",
    "    \n",
    "    # calculate sum of winner/loser on holding period\n",
    "    for i in range(num_possible_ranges):\n",
    "        sw, sl = sum_decile_winners_losers_hold(RO, RH, i)\n",
    "        S_W[i] = sw\n",
    "        S_L[i] = sl\n",
    "        \n",
    "    return np.vstack([S_W, S_L]).T\n",
    "    "
   ]
  },
  {
   "cell_type": "markdown",
   "metadata": {},
   "source": [
    "## Add Date, Year, and Month columns for easier selection"
   ]
  },
  {
   "cell_type": "code",
   "execution_count": 247,
   "metadata": {
    "collapsed": false
   },
   "outputs": [
    {
     "data": {
      "text/html": [
       "<div>\n",
       "<style scoped>\n",
       "    .dataframe tbody tr th:only-of-type {\n",
       "        vertical-align: middle;\n",
       "    }\n",
       "\n",
       "    .dataframe tbody tr th {\n",
       "        vertical-align: top;\n",
       "    }\n",
       "\n",
       "    .dataframe thead th {\n",
       "        text-align: right;\n",
       "    }\n",
       "</style>\n",
       "<table border=\"1\" class=\"dataframe\">\n",
       "  <thead>\n",
       "    <tr style=\"text-align: right;\">\n",
       "      <th>Stock</th>\n",
       "      <th>2S TB Equity</th>\n",
       "      <th>A TB Equity</th>\n",
       "      <th>AAV TB Equity</th>\n",
       "      <th>ABICO TB Equity</th>\n",
       "      <th>ABPIF TB Equity</th>\n",
       "      <th>ACAP TB Equity</th>\n",
       "      <th>ACC TB Equity</th>\n",
       "      <th>ADB TB Equity</th>\n",
       "      <th>ADVANC TB Equity</th>\n",
       "      <th>AEC TB Equity</th>\n",
       "      <th>...</th>\n",
       "      <th>WINNER TB Equity</th>\n",
       "      <th>WORK TB Equity</th>\n",
       "      <th>WPH TB Equity</th>\n",
       "      <th>XO TB Equity</th>\n",
       "      <th>YUASA TB Equity</th>\n",
       "      <th>ZIGA TB Equity</th>\n",
       "      <th>ZMICO TB Equity</th>\n",
       "      <th>Date</th>\n",
       "      <th>Year</th>\n",
       "      <th>Month</th>\n",
       "    </tr>\n",
       "  </thead>\n",
       "  <tbody>\n",
       "    <tr>\n",
       "      <th>1990-01-31</th>\n",
       "      <td>NaN</td>\n",
       "      <td>NaN</td>\n",
       "      <td>NaN</td>\n",
       "      <td>NaN</td>\n",
       "      <td>NaN</td>\n",
       "      <td>NaN</td>\n",
       "      <td>NaN</td>\n",
       "      <td>NaN</td>\n",
       "      <td>NaN</td>\n",
       "      <td>NaN</td>\n",
       "      <td>...</td>\n",
       "      <td>NaN</td>\n",
       "      <td>NaN</td>\n",
       "      <td>NaN</td>\n",
       "      <td>NaN</td>\n",
       "      <td>NaN</td>\n",
       "      <td>NaN</td>\n",
       "      <td>NaN</td>\n",
       "      <td>1990-01-31</td>\n",
       "      <td>1990</td>\n",
       "      <td>1</td>\n",
       "    </tr>\n",
       "    <tr>\n",
       "      <th>1990-02-28</th>\n",
       "      <td>NaN</td>\n",
       "      <td>NaN</td>\n",
       "      <td>NaN</td>\n",
       "      <td>NaN</td>\n",
       "      <td>NaN</td>\n",
       "      <td>NaN</td>\n",
       "      <td>NaN</td>\n",
       "      <td>NaN</td>\n",
       "      <td>NaN</td>\n",
       "      <td>NaN</td>\n",
       "      <td>...</td>\n",
       "      <td>NaN</td>\n",
       "      <td>NaN</td>\n",
       "      <td>NaN</td>\n",
       "      <td>NaN</td>\n",
       "      <td>NaN</td>\n",
       "      <td>NaN</td>\n",
       "      <td>NaN</td>\n",
       "      <td>1990-02-28</td>\n",
       "      <td>1990</td>\n",
       "      <td>2</td>\n",
       "    </tr>\n",
       "    <tr>\n",
       "      <th>1990-03-30</th>\n",
       "      <td>NaN</td>\n",
       "      <td>NaN</td>\n",
       "      <td>NaN</td>\n",
       "      <td>NaN</td>\n",
       "      <td>NaN</td>\n",
       "      <td>NaN</td>\n",
       "      <td>NaN</td>\n",
       "      <td>NaN</td>\n",
       "      <td>NaN</td>\n",
       "      <td>NaN</td>\n",
       "      <td>...</td>\n",
       "      <td>NaN</td>\n",
       "      <td>NaN</td>\n",
       "      <td>NaN</td>\n",
       "      <td>NaN</td>\n",
       "      <td>NaN</td>\n",
       "      <td>NaN</td>\n",
       "      <td>NaN</td>\n",
       "      <td>1990-03-30</td>\n",
       "      <td>1990</td>\n",
       "      <td>3</td>\n",
       "    </tr>\n",
       "    <tr>\n",
       "      <th>1990-04-30</th>\n",
       "      <td>NaN</td>\n",
       "      <td>NaN</td>\n",
       "      <td>NaN</td>\n",
       "      <td>NaN</td>\n",
       "      <td>NaN</td>\n",
       "      <td>NaN</td>\n",
       "      <td>NaN</td>\n",
       "      <td>NaN</td>\n",
       "      <td>NaN</td>\n",
       "      <td>NaN</td>\n",
       "      <td>...</td>\n",
       "      <td>NaN</td>\n",
       "      <td>NaN</td>\n",
       "      <td>NaN</td>\n",
       "      <td>NaN</td>\n",
       "      <td>NaN</td>\n",
       "      <td>NaN</td>\n",
       "      <td>NaN</td>\n",
       "      <td>1990-04-30</td>\n",
       "      <td>1990</td>\n",
       "      <td>4</td>\n",
       "    </tr>\n",
       "    <tr>\n",
       "      <th>1990-05-31</th>\n",
       "      <td>NaN</td>\n",
       "      <td>NaN</td>\n",
       "      <td>NaN</td>\n",
       "      <td>NaN</td>\n",
       "      <td>NaN</td>\n",
       "      <td>NaN</td>\n",
       "      <td>NaN</td>\n",
       "      <td>NaN</td>\n",
       "      <td>NaN</td>\n",
       "      <td>NaN</td>\n",
       "      <td>...</td>\n",
       "      <td>NaN</td>\n",
       "      <td>NaN</td>\n",
       "      <td>NaN</td>\n",
       "      <td>NaN</td>\n",
       "      <td>NaN</td>\n",
       "      <td>NaN</td>\n",
       "      <td>NaN</td>\n",
       "      <td>1990-05-31</td>\n",
       "      <td>1990</td>\n",
       "      <td>5</td>\n",
       "    </tr>\n",
       "  </tbody>\n",
       "</table>\n",
       "<p>5 rows × 746 columns</p>\n",
       "</div>"
      ],
      "text/plain": [
       "Stock       2S TB Equity  A TB Equity  AAV TB Equity  ABICO TB Equity  \\\n",
       "1990-01-31           NaN          NaN            NaN              NaN   \n",
       "1990-02-28           NaN          NaN            NaN              NaN   \n",
       "1990-03-30           NaN          NaN            NaN              NaN   \n",
       "1990-04-30           NaN          NaN            NaN              NaN   \n",
       "1990-05-31           NaN          NaN            NaN              NaN   \n",
       "\n",
       "Stock       ABPIF TB Equity  ACAP TB Equity  ACC TB Equity  ADB TB Equity  \\\n",
       "1990-01-31              NaN             NaN            NaN            NaN   \n",
       "1990-02-28              NaN             NaN            NaN            NaN   \n",
       "1990-03-30              NaN             NaN            NaN            NaN   \n",
       "1990-04-30              NaN             NaN            NaN            NaN   \n",
       "1990-05-31              NaN             NaN            NaN            NaN   \n",
       "\n",
       "Stock       ADVANC TB Equity  AEC TB Equity  ...    WINNER TB Equity  \\\n",
       "1990-01-31               NaN            NaN  ...                 NaN   \n",
       "1990-02-28               NaN            NaN  ...                 NaN   \n",
       "1990-03-30               NaN            NaN  ...                 NaN   \n",
       "1990-04-30               NaN            NaN  ...                 NaN   \n",
       "1990-05-31               NaN            NaN  ...                 NaN   \n",
       "\n",
       "Stock       WORK TB Equity  WPH TB Equity  XO TB Equity  YUASA TB Equity  \\\n",
       "1990-01-31             NaN            NaN           NaN              NaN   \n",
       "1990-02-28             NaN            NaN           NaN              NaN   \n",
       "1990-03-30             NaN            NaN           NaN              NaN   \n",
       "1990-04-30             NaN            NaN           NaN              NaN   \n",
       "1990-05-31             NaN            NaN           NaN              NaN   \n",
       "\n",
       "Stock       ZIGA TB Equity  ZMICO TB Equity       Date  Year  Month  \n",
       "1990-01-31             NaN              NaN 1990-01-31  1990      1  \n",
       "1990-02-28             NaN              NaN 1990-02-28  1990      2  \n",
       "1990-03-30             NaN              NaN 1990-03-30  1990      3  \n",
       "1990-04-30             NaN              NaN 1990-04-30  1990      4  \n",
       "1990-05-31             NaN              NaN 1990-05-31  1990      5  \n",
       "\n",
       "[5 rows x 746 columns]"
      ]
     },
     "execution_count": 247,
     "metadata": {},
     "output_type": "execute_result"
    }
   ],
   "source": [
    "dft = df.T\n",
    "dft['Date'] = dft.index\n",
    "dft['Year'] = dft['Date'].apply(lambda dt: dt.year)\n",
    "dft['Month'] = dft['Date'].apply(lambda dt: dt.month)\n",
    "dft.head()"
   ]
  },
  {
   "cell_type": "markdown",
   "metadata": {},
   "source": [
    "## Year 2017, First three months, to check 1x1"
   ]
  },
  {
   "cell_type": "code",
   "execution_count": 248,
   "metadata": {
    "collapsed": false
   },
   "outputs": [
    {
     "name": "stdout",
     "output_type": "stream",
     "text": [
      "1x1, Year 2017, month 1-3\n",
      "Sum winner = 2.2372874859472103\n",
      "Sum loser = 0.8774114236304408\n"
     ]
    }
   ],
   "source": [
    "d2017 = dft[(dft.Year == 2017) & (dft.Month <= 3)]\n",
    "d2017_no_date = d2017.drop(columns=['Date', 'Year', 'Month']).T # drop date columns before calculation\n",
    "s_winner, s_loser = strategy(1,1,d2017_no_date.values)[0]\n",
    "print(\"1x1, Year 2017, month 1-3\")\n",
    "print(\"Sum winner = {}\\nSum loser = {}\".format(s_winner, s_loser))"
   ]
  },
  {
   "cell_type": "code",
   "execution_count": 249,
   "metadata": {
    "collapsed": false,
    "scrolled": true
   },
   "outputs": [
    {
     "data": {
      "text/html": [
       "<div>\n",
       "<style scoped>\n",
       "    .dataframe tbody tr th:only-of-type {\n",
       "        vertical-align: middle;\n",
       "    }\n",
       "\n",
       "    .dataframe tbody tr th {\n",
       "        vertical-align: top;\n",
       "    }\n",
       "\n",
       "    .dataframe thead th {\n",
       "        text-align: right;\n",
       "    }\n",
       "</style>\n",
       "<table border=\"1\" class=\"dataframe\">\n",
       "  <thead>\n",
       "    <tr style=\"text-align: right;\">\n",
       "      <th></th>\n",
       "      <th>2017-01-31 00:00:00</th>\n",
       "      <th>2017-02-28 00:00:00</th>\n",
       "      <th>2017-03-31 00:00:00</th>\n",
       "    </tr>\n",
       "    <tr>\n",
       "      <th>Stock</th>\n",
       "      <th></th>\n",
       "      <th></th>\n",
       "      <th></th>\n",
       "    </tr>\n",
       "  </thead>\n",
       "  <tbody>\n",
       "    <tr>\n",
       "      <th>PE TB Equity</th>\n",
       "      <td>0.88</td>\n",
       "      <td>0.78</td>\n",
       "      <td>0.79</td>\n",
       "    </tr>\n",
       "    <tr>\n",
       "      <th>RCL TB Equity</th>\n",
       "      <td>6.95</td>\n",
       "      <td>6.15</td>\n",
       "      <td>7.15</td>\n",
       "    </tr>\n",
       "  </tbody>\n",
       "</table>\n",
       "</div>"
      ],
      "text/plain": [
       "               2017-01-31  2017-02-28  2017-03-31\n",
       "Stock                                            \n",
       "PE TB Equity         0.88        0.78        0.79\n",
       "RCL TB Equity        6.95        6.15        7.15"
      ]
     },
     "execution_count": 249,
     "metadata": {},
     "output_type": "execute_result"
    }
   ],
   "source": [
    "debug = dft[['PE TB Equity', 'RCL TB Equity']][(dft.Year == 2017) & (dft.Month <= 3)].T\n",
    "debug"
   ]
  },
  {
   "cell_type": "code",
   "execution_count": 250,
   "metadata": {
    "collapsed": false
   },
   "outputs": [
    {
     "name": "stdout",
     "output_type": "stream",
     "text": [
      "Detected WL.npy, loading...\n",
      "WL.npy is loaded from disk.\n"
     ]
    }
   ],
   "source": [
    "WL = None\n",
    "periods = [1,3,6,12,24]\n",
    "reload = False\n",
    "if os.path.exists('./WL.npy') and not reload:\n",
    "    print('Detected WL.npy, loading...')\n",
    "    WL = np.load('WL.npy')\n",
    "    print('WL.npy is loaded from disk.')\n",
    "else:\n",
    "    print('No WL.npy detected, calculating new one...')\n",
    "    D = df.values\n",
    "    R, C = D.shape\n",
    "    WL = np.zeros([len(periods),len(periods), R, 2])\n",
    "    WL[:] = np.nan\n",
    "    for io, o in enumerate(periods):\n",
    "        for ih, h in enumerate(periods):\n",
    "            res  = strategy(o, h, D)\n",
    "            WL[io, ih, :res.shape[0], :] =  res\n",
    "    print('Saving WL.npy...')\n",
    "    np.save('WL.npy', WL)\n",
    "    print('WL.npy is saved to disk.')"
   ]
  },
  {
   "cell_type": "code",
   "execution_count": 251,
   "metadata": {
    "collapsed": false
   },
   "outputs": [],
   "source": [
    "def explore(o, h):\n",
    "    oi = periods.index(o)\n",
    "    hi = periods.index(h)\n",
    "    res = WL[oi, hi]\n",
    "    wins = res[:,0]\n",
    "    losers = res[:,1]\n",
    "    w, = plt.plot(wins, label='Sum of winners')\n",
    "    l, = plt.plot(losers, label='Sum of losers')\n",
    "    plt.legend(handles=[w,l])\n",
    "\n",
    "o_slider = widgets.SelectionSlider(\n",
    "    options=periods,\n",
    "    value=1,\n",
    "    description='Observing period (months)',\n",
    "    disabled=False,\n",
    "    continuous_update=True,\n",
    "    orientation='horizontal',\n",
    "    readout=True)\n",
    "\n",
    "h_slider = widgets.SelectionSlider(\n",
    "    options=periods,\n",
    "    value=1,\n",
    "    description='Holding period (months)',\n",
    "    disabled=False,\n",
    "    continuous_update=True,\n",
    "    orientation='horizontal',\n",
    "    readout=True)\n",
    "\n",
    "\n",
    "w = interactive(explore, o=o_slider, h=h_slider)"
   ]
  },
  {
   "cell_type": "code",
   "execution_count": 252,
   "metadata": {
    "collapsed": false
   },
   "outputs": [
    {
     "data": {
      "image/png": "[encoded data removed]",
      "text/plain": [
       "<matplotlib.figure.Figure at 0x11c94a8d0>"
      ]
     },
     "metadata": {},
     "output_type": "display_data"
    }
   ],
   "source": [
    "display(w)"
   ]
  },
  {
   "cell_type": "code",
   "execution_count": 253,
   "metadata": {
    "collapsed": false,
    "scrolled": true
   },
   "outputs": [
    {
     "data": {
      "text/plain": [
       "<matplotlib.text.Text at 0x11d1d56d8>"
      ]
     },
     "execution_count": 253,
     "metadata": {},
     "output_type": "execute_result"
    },
    {
     "data": {
      "image/png": "[encoded data removed]",
      "text/plain": [
       "<matplotlib.figure.Figure at 0x11cc9d048>"
      ]
     },
     "metadata": {},
     "output_type": "display_data"
    }
   ],
   "source": [
    "WL[np.isnan(WL)] = 0\n",
    "WL_ = np.average(WL, axis=2)\n",
    "WLdiff = WL_[:,:,0] / WL_[:,:,1]\n",
    "\n",
    "x = y = np.arange(5)\n",
    "X, Y = np.meshgrid(x, y)\n",
    "\n",
    "fig = plt.figure()\n",
    "ax = fig.gca(projection='3d')\n",
    "surf = ax.plot_surface(X, Y, WLdiff, rstride=1, cstride=1, cmap=cm.coolwarm,\n",
    "    linewidth=0, antialiased=False)\n",
    "fig.colorbar(surf, shrink=0.5, aspect=5)\n",
    "plt.title('Diff winner and losers for each strategy')"
   ]
  },
  {
   "cell_type": "code",
   "execution_count": 254,
   "metadata": {
    "collapsed": false
   },
   "outputs": [
    {
     "data": {
      "text/plain": [
       "1.7693607252899184"
      ]
     },
     "execution_count": 254,
     "metadata": {},
     "output_type": "execute_result"
    }
   ],
   "source": [
    "a = WLdiff\n",
    "np.where(a == a.max())\n",
    "a[1,2]"
   ]
  },
  {
   "cell_type": "code",
   "execution_count": 255,
   "metadata": {
    "collapsed": false
   },
   "outputs": [
    {
     "data": {
      "text/plain": [
       "<matplotlib.image.AxesImage at 0x11d4e4b38>"
      ]
     },
     "execution_count": 255,
     "metadata": {},
     "output_type": "execute_result"
    },
    {
     "data": {
      "image/png": "[encoded data removed]",
      "text/plain": [
       "<matplotlib.figure.Figure at 0x11c97cf28>"
      ]
     },
     "metadata": {},
     "output_type": "display_data"
    }
   ],
   "source": [
    "plt.imshow(WLdiff, cmap='hot', interpolation='nearest')"
   ]
  },
  {
   "cell_type": "markdown",
   "metadata": {},
   "source": [
    "## Save to Excel"
   ]
  },
  {
   "cell_type": "code",
   "execution_count": 256,
   "metadata": {
    "collapsed": false
   },
   "outputs": [],
   "source": [
    "writer = pd.ExcelWriter('output.xlsx')\n",
    "for io, o in enumerate(periods):\n",
    "    for ih, h in enumerate(periods):\n",
    "        data = WL[io, ih, :, :]\n",
    "        data = data[~np.isnan(data).any(axis=1)]\n",
    "        result_df = pd.DataFrame(data=data, columns=['sum winner', 'sum loser'])\n",
    "        result_df.dropna(how='all', axis=1, inplace=True)\n",
    "        result_df.to_excel(writer,\"{}x{}\".format(o,h))\n",
    "writer.save()"
   ]
  }
 ],
 "metadata": {
  "kernelspec": {
   "display_name": "Python [conda env:py3]",
   "language": "python",
   "name": "conda-env-py3-py"
  },
  "language_info": {
   "codemirror_mode": {
    "name": "ipython",
    "version": 3
   },
   "file_extension": ".py",
   "mimetype": "text/x-python",
   "name": "python",
   "nbconvert_exporter": "python",
   "pygments_lexer": "ipython3",
   "version": "3.5.2"
  },
  "widgets": {
   "state": {
    "0eda3afa9eaf47e2823c744e3b897c0d": {
     "views": [
      {
       "cell_index": 5
      }
     ]
    },
    "37a6ee80060b447a80e67113272edf5d": {
     "views": [
      {
       "cell_index": 15
      }
     ]
    }
   },
   "version": "1.2.0"
  }
 },
 "nbformat": 4,
 "nbformat_minor": 2
}
