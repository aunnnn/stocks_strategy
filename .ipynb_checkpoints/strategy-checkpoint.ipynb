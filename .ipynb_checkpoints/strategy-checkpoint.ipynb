{
 "cells": [
  {
   "cell_type": "code",
   "execution_count": 1,
   "metadata": {
    "collapsed": false
   },
   "outputs": [
    {
     "name": "stderr",
     "output_type": "stream",
     "text": [
      "/Users/AunN/anaconda/envs/py3/lib/python3.5/importlib/_bootstrap.py:222: RuntimeWarning: numpy.dtype size changed, may indicate binary incompatibility. Expected 96, got 88\n",
      "  return f(*args, **kwds)\n"
     ]
    }
   ],
   "source": [
    "import pandas as pd\n",
    "import numpy as np\n",
    "import math\n",
    "import os\n",
    "\n",
    "import matplotlib.pyplot as plt\n",
    "from matplotlib import cm\n",
    "from mpl_toolkits.mplot3d import Axes3D\n",
    "\n",
    "import ipywidgets as widgets\n",
    "from ipywidgets import interact, interactive\n",
    "from IPython.display import display"
   ]
  },
  {
   "cell_type": "code",
   "execution_count": 2,
   "metadata": {
    "collapsed": false
   },
   "outputs": [],
   "source": [
    "%matplotlib inline"
   ]
  },
  {
   "cell_type": "code",
   "execution_count": 3,
   "metadata": {
    "collapsed": false
   },
   "outputs": [],
   "source": [
    "df = pd.read_csv(\"price_data.csv\")\n",
    "\n",
    "# Set first column name\n",
    "df.columns.values[0] = \"Stock\"\n",
    "\n",
    "# Make that column indexes (row)\n",
    "df = df.set_index('Stock')\n",
    "\n",
    "# Make columns datetime\n",
    "df.columns = pd.to_datetime(df.columns)\n",
    "\n",
    "# Make all numeric\n",
    "df = df.apply(pd.to_numeric, errors=\"coerce\")\n",
    "\n",
    "# drop row if all NaN\n",
    "df.dropna(how='all', inplace=True)\n",
    "\n",
    "# drop column if all NaN\n",
    "df.dropna(how='all', axis=1, inplace=True)"
   ]
  },
  {
   "cell_type": "code",
   "execution_count": 4,
   "metadata": {
    "collapsed": false
   },
   "outputs": [
    {
     "data": {
      "text/html": [
       "<div>\n",
       "<style scoped>\n",
       "    .dataframe tbody tr th:only-of-type {\n",
       "        vertical-align: middle;\n",
       "    }\n",
       "\n",
       "    .dataframe tbody tr th {\n",
       "        vertical-align: top;\n",
       "    }\n",
       "\n",
       "    .dataframe thead th {\n",
       "        text-align: right;\n",
       "    }\n",
       "</style>\n",
       "<table border=\"1\" class=\"dataframe\">\n",
       "  <thead>\n",
       "    <tr style=\"text-align: right;\">\n",
       "      <th></th>\n",
       "      <th>1990-01-31 00:00:00</th>\n",
       "      <th>1990-02-28 00:00:00</th>\n",
       "      <th>1990-03-30 00:00:00</th>\n",
       "      <th>1990-04-30 00:00:00</th>\n",
       "      <th>1990-05-31 00:00:00</th>\n",
       "      <th>1990-06-29 00:00:00</th>\n",
       "      <th>1990-07-31 00:00:00</th>\n",
       "      <th>1990-08-31 00:00:00</th>\n",
       "      <th>1990-09-28 00:00:00</th>\n",
       "      <th>1990-10-31 00:00:00</th>\n",
       "      <th>...</th>\n",
       "      <th>2017-09-29 00:00:00</th>\n",
       "      <th>2017-10-31 00:00:00</th>\n",
       "      <th>2017-11-30 00:00:00</th>\n",
       "      <th>2017-12-29 00:00:00</th>\n",
       "      <th>2018-01-31 00:00:00</th>\n",
       "      <th>2018-02-28 00:00:00</th>\n",
       "      <th>2018-03-30 00:00:00</th>\n",
       "      <th>2018-04-30 00:00:00</th>\n",
       "      <th>2018-05-31 00:00:00</th>\n",
       "      <th>2018-06-29 00:00:00</th>\n",
       "    </tr>\n",
       "    <tr>\n",
       "      <th>Stock</th>\n",
       "      <th></th>\n",
       "      <th></th>\n",
       "      <th></th>\n",
       "      <th></th>\n",
       "      <th></th>\n",
       "      <th></th>\n",
       "      <th></th>\n",
       "      <th></th>\n",
       "      <th></th>\n",
       "      <th></th>\n",
       "      <th></th>\n",
       "      <th></th>\n",
       "      <th></th>\n",
       "      <th></th>\n",
       "      <th></th>\n",
       "      <th></th>\n",
       "      <th></th>\n",
       "      <th></th>\n",
       "      <th></th>\n",
       "      <th></th>\n",
       "      <th></th>\n",
       "    </tr>\n",
       "  </thead>\n",
       "  <tbody>\n",
       "    <tr>\n",
       "      <th>2S TB Equity</th>\n",
       "      <td>NaN</td>\n",
       "      <td>NaN</td>\n",
       "      <td>NaN</td>\n",
       "      <td>NaN</td>\n",
       "      <td>NaN</td>\n",
       "      <td>NaN</td>\n",
       "      <td>NaN</td>\n",
       "      <td>NaN</td>\n",
       "      <td>NaN</td>\n",
       "      <td>NaN</td>\n",
       "      <td>...</td>\n",
       "      <td>4.27</td>\n",
       "      <td>3.98</td>\n",
       "      <td>4.39</td>\n",
       "      <td>4.44</td>\n",
       "      <td>4.30</td>\n",
       "      <td>4.20</td>\n",
       "      <td>4.00</td>\n",
       "      <td>3.78</td>\n",
       "      <td>3.5</td>\n",
       "      <td>3.06</td>\n",
       "    </tr>\n",
       "    <tr>\n",
       "      <th>A TB Equity</th>\n",
       "      <td>NaN</td>\n",
       "      <td>NaN</td>\n",
       "      <td>NaN</td>\n",
       "      <td>NaN</td>\n",
       "      <td>NaN</td>\n",
       "      <td>NaN</td>\n",
       "      <td>NaN</td>\n",
       "      <td>NaN</td>\n",
       "      <td>NaN</td>\n",
       "      <td>NaN</td>\n",
       "      <td>...</td>\n",
       "      <td>6.50</td>\n",
       "      <td>6.55</td>\n",
       "      <td>6.55</td>\n",
       "      <td>6.60</td>\n",
       "      <td>6.65</td>\n",
       "      <td>6.70</td>\n",
       "      <td>6.70</td>\n",
       "      <td>6.70</td>\n",
       "      <td>6.7</td>\n",
       "      <td>6.70</td>\n",
       "    </tr>\n",
       "    <tr>\n",
       "      <th>AAV TB Equity</th>\n",
       "      <td>NaN</td>\n",
       "      <td>NaN</td>\n",
       "      <td>NaN</td>\n",
       "      <td>NaN</td>\n",
       "      <td>NaN</td>\n",
       "      <td>NaN</td>\n",
       "      <td>NaN</td>\n",
       "      <td>NaN</td>\n",
       "      <td>NaN</td>\n",
       "      <td>NaN</td>\n",
       "      <td>...</td>\n",
       "      <td>6.55</td>\n",
       "      <td>6.40</td>\n",
       "      <td>6.20</td>\n",
       "      <td>6.15</td>\n",
       "      <td>5.70</td>\n",
       "      <td>5.55</td>\n",
       "      <td>5.15</td>\n",
       "      <td>5.85</td>\n",
       "      <td>5.5</td>\n",
       "      <td>5.00</td>\n",
       "    </tr>\n",
       "    <tr>\n",
       "      <th>ABICO TB Equity</th>\n",
       "      <td>NaN</td>\n",
       "      <td>NaN</td>\n",
       "      <td>NaN</td>\n",
       "      <td>NaN</td>\n",
       "      <td>NaN</td>\n",
       "      <td>NaN</td>\n",
       "      <td>NaN</td>\n",
       "      <td>NaN</td>\n",
       "      <td>NaN</td>\n",
       "      <td>NaN</td>\n",
       "      <td>...</td>\n",
       "      <td>9.75</td>\n",
       "      <td>9.75</td>\n",
       "      <td>9.20</td>\n",
       "      <td>9.45</td>\n",
       "      <td>8.85</td>\n",
       "      <td>7.85</td>\n",
       "      <td>7.95</td>\n",
       "      <td>7.85</td>\n",
       "      <td>6.3</td>\n",
       "      <td>5.95</td>\n",
       "    </tr>\n",
       "    <tr>\n",
       "      <th>ABPIF TB Equity</th>\n",
       "      <td>NaN</td>\n",
       "      <td>NaN</td>\n",
       "      <td>NaN</td>\n",
       "      <td>NaN</td>\n",
       "      <td>NaN</td>\n",
       "      <td>NaN</td>\n",
       "      <td>NaN</td>\n",
       "      <td>NaN</td>\n",
       "      <td>NaN</td>\n",
       "      <td>NaN</td>\n",
       "      <td>...</td>\n",
       "      <td>8.45</td>\n",
       "      <td>8.60</td>\n",
       "      <td>8.55</td>\n",
       "      <td>8.55</td>\n",
       "      <td>8.90</td>\n",
       "      <td>8.70</td>\n",
       "      <td>8.50</td>\n",
       "      <td>8.55</td>\n",
       "      <td>8.5</td>\n",
       "      <td>8.50</td>\n",
       "    </tr>\n",
       "  </tbody>\n",
       "</table>\n",
       "<p>5 rows × 342 columns</p>\n",
       "</div>"
      ],
      "text/plain": [
       "                 1990-01-31  1990-02-28  1990-03-30  1990-04-30  1990-05-31  \\\n",
       "Stock                                                                         \n",
       "2S TB Equity            NaN         NaN         NaN         NaN         NaN   \n",
       "A TB Equity             NaN         NaN         NaN         NaN         NaN   \n",
       "AAV TB Equity           NaN         NaN         NaN         NaN         NaN   \n",
       "ABICO TB Equity         NaN         NaN         NaN         NaN         NaN   \n",
       "ABPIF TB Equity         NaN         NaN         NaN         NaN         NaN   \n",
       "\n",
       "                 1990-06-29  1990-07-31  1990-08-31  1990-09-28  1990-10-31  \\\n",
       "Stock                                                                         \n",
       "2S TB Equity            NaN         NaN         NaN         NaN         NaN   \n",
       "A TB Equity             NaN         NaN         NaN         NaN         NaN   \n",
       "AAV TB Equity           NaN         NaN         NaN         NaN         NaN   \n",
       "ABICO TB Equity         NaN         NaN         NaN         NaN         NaN   \n",
       "ABPIF TB Equity         NaN         NaN         NaN         NaN         NaN   \n",
       "\n",
       "                    ...      2017-09-29  2017-10-31  2017-11-30  2017-12-29  \\\n",
       "Stock               ...                                                       \n",
       "2S TB Equity        ...            4.27        3.98        4.39        4.44   \n",
       "A TB Equity         ...            6.50        6.55        6.55        6.60   \n",
       "AAV TB Equity       ...            6.55        6.40        6.20        6.15   \n",
       "ABICO TB Equity     ...            9.75        9.75        9.20        9.45   \n",
       "ABPIF TB Equity     ...            8.45        8.60        8.55        8.55   \n",
       "\n",
       "                 2018-01-31  2018-02-28  2018-03-30  2018-04-30  2018-05-31  \\\n",
       "Stock                                                                         \n",
       "2S TB Equity           4.30        4.20        4.00        3.78         3.5   \n",
       "A TB Equity            6.65        6.70        6.70        6.70         6.7   \n",
       "AAV TB Equity          5.70        5.55        5.15        5.85         5.5   \n",
       "ABICO TB Equity        8.85        7.85        7.95        7.85         6.3   \n",
       "ABPIF TB Equity        8.90        8.70        8.50        8.55         8.5   \n",
       "\n",
       "                 2018-06-29  \n",
       "Stock                        \n",
       "2S TB Equity           3.06  \n",
       "A TB Equity            6.70  \n",
       "AAV TB Equity          5.00  \n",
       "ABICO TB Equity        5.95  \n",
       "ABPIF TB Equity        8.50  \n",
       "\n",
       "[5 rows x 342 columns]"
      ]
     },
     "execution_count": 4,
     "metadata": {},
     "output_type": "execute_result"
    }
   ],
   "source": [
    "df.head()"
   ]
  },
  {
   "cell_type": "code",
   "execution_count": 5,
   "metadata": {
    "collapsed": false
   },
   "outputs": [
    {
     "name": "stdout",
     "output_type": "stream",
     "text": [
      "Left with 743 stocks, and 342 date columns\n"
     ]
    }
   ],
   "source": [
    "print(\"Left with {} stocks, and {} date columns\".format(df.shape[0], df.shape[1]))"
   ]
  },
  {
   "cell_type": "code",
   "execution_count": 6,
   "metadata": {
    "collapsed": false
   },
   "outputs": [
    {
     "data": {
      "image/png": "[encoded data removed]",
      "text/plain": [
       "<matplotlib.figure.Figure at 0x117f2f6d8>"
      ]
     },
     "metadata": {},
     "output_type": "display_data"
    }
   ],
   "source": [
    "@interact(index=(0,len(df.index)-1))\n",
    "def view_stocks(index=0):\n",
    "    i = index\n",
    "    df.iloc[i].plot(kind='line', title=df.index[i])"
   ]
  },
  {
   "cell_type": "markdown",
   "metadata": {},
   "source": [
    "## Strategy Calculation (Holding-Observing)\n",
    "\n",
    "o, h is period of time in months (o = observing/h = hoding)"
   ]
  },
  {
   "cell_type": "code",
   "execution_count": 194,
   "metadata": {
    "collapsed": false
   },
   "outputs": [],
   "source": [
    "def sum_decile_winners_losers_hold(RO, RH, irange, debug_list=False):\n",
    "    i = irange\n",
    "    ro, rh = RO[:, i], RH[:, i]\n",
    "\n",
    "    # Concat o, h\n",
    "    oh = np.vstack([ro, rh]).T\n",
    "    \n",
    "    # remove rows that have nan\n",
    "    oh = oh[~np.isnan(oh).any(axis=1)]\n",
    "\n",
    "    # sort by winners in observing period\n",
    "    sorted_inds_desc = oh[:,0].argsort()[::-1]\n",
    "    oh = oh[sorted_inds_desc]\n",
    "\n",
    "    # get decile range\n",
    "    decile_num = math.ceil(oh.shape[0]/10)\n",
    "\n",
    "    winners = oh[:decile_num]\n",
    "    losers = oh[-decile_num:]\n",
    "    \n",
    "    if debug_list:        \n",
    "        return (winners, losers)\n",
    "\n",
    "    sum_winners_hold = winners[:,1].sum()\n",
    "    sum_losers_hold = losers[:,1].sum()\n",
    "    return (sum_winners_hold, sum_losers_hold)\n",
    "    \n",
    "\n",
    "# o, h is number of months\n",
    "def strategy(o, h, M):\n",
    "    nrows, ncols = M.shape\n",
    "    \n",
    "    oh_total_range = o+1+h\n",
    "    num_possible_ranges = ncols - oh_total_range + 1\n",
    "    \n",
    "    if num_possible_ranges <= 0:\n",
    "        raise ValueError('num_possible_ranges must > 0.')\n",
    "    \n",
    "    RO = np.zeros([nrows, num_possible_ranges])\n",
    "    RH = np.zeros([nrows, num_possible_ranges])\n",
    "\n",
    "    # for each stock\n",
    "    for r in range(nrows):\n",
    "        \n",
    "        # for each o/h range til the end\n",
    "        for ic in range(num_possible_ranges):\n",
    "            \n",
    "            m = M[r, ic:ic+oh_total_range] # get that range\n",
    "            if np.isnan(m).any(): # one value is nan -> ignore stock at this range\n",
    "                RO[r, ic] = np.nan\n",
    "                RH[r, ic] = np.nan\n",
    "                print(\"nan at \", r, ic)\n",
    "                continue\n",
    "                \n",
    "            p0 = m[0] # start\n",
    "            p1 = m[o] # start - observe\n",
    "            p2 = m[o + h] # observe - hold\n",
    "            \n",
    "            # Handle divided by 0\n",
    "            if p0 == 0:\n",
    "                returnO = 0\n",
    "            else:\n",
    "                returnO = p1/p0 - 1\n",
    "                \n",
    "                \n",
    "            if p1 == 0:\n",
    "                returnH = 0\n",
    "            else:\n",
    "                returnH = p2/p1 - 1                \n",
    "                \n",
    "            RO[r, ic]= returnO\n",
    "            RH[r, ic] = returnH\n",
    "    \n",
    "    S_W = np.zeros(num_possible_ranges)\n",
    "    S_L = np.zeros(num_possible_ranges)\n",
    "    \n",
    "    # calculate sum of winner/loser on holding period\n",
    "    for i in range(num_possible_ranges):\n",
    "        sw, sl = sum_decile_winners_losers_hold(RO, RH, i)\n",
    "        S_W[i] = sw\n",
    "        S_L[i] = sl\n",
    "        \n",
    "    print(\"Sorted Returns by Observing periods\")\n",
    "    w, l = sum_decile_winners_losers_hold(RO, RH, 0, debug_list=True)\n",
    "    print(\"Winners\\n\", w)\n",
    "    print(\"Losers\\n\", l)\n",
    "    \n",
    "    return np.vstack([S_W, S_L]).T\n",
    "    "
   ]
  },
  {
   "cell_type": "markdown",
   "metadata": {},
   "source": [
    "## Add Date, Year, and Month columns for easier selection"
   ]
  },
  {
   "cell_type": "code",
   "execution_count": 201,
   "metadata": {
    "collapsed": false
   },
   "outputs": [
    {
     "data": {
      "text/plain": [
       "408"
      ]
     },
     "execution_count": 201,
     "metadata": {},
     "output_type": "execute_result"
    }
   ],
   "source": [
    "dft = df.T\n",
    "dft['Date'] = dft.index\n",
    "dft['Year'] = dft['Date'].apply(lambda dt: dt.year)\n",
    "dft['Month'] = dft['Date'].apply(lambda dt: dt.month)\n",
    "dft.head()\n",
    "dft['PE TB Equity']['31/1/2017':]\n",
    "dft.columns.get_loc('PE TB Equity')"
   ]
  },
  {
   "cell_type": "markdown",
   "metadata": {},
   "source": [
    "## Year 2017, First three months, to check 1x1"
   ]
  },
  {
   "cell_type": "code",
   "execution_count": 202,
   "metadata": {
    "collapsed": false
   },
   "outputs": [
    {
     "name": "stdout",
     "output_type": "stream",
     "text": [
      "num possible 1\n",
      "nan at  7 0\n",
      "nan at  44 0\n",
      "nan at  70 0\n",
      "nan at  90 0\n",
      "nan at  138 0\n",
      "nan at  141 0\n",
      "nan at  151 0\n",
      "nan at  155 0\n",
      "nan at  189 0\n",
      "nan at  195 0\n",
      "nan at  204 0\n",
      "nan at  207 0\n",
      "nan at  214 0\n",
      "nan at  219 0\n",
      "nan at  224 0\n",
      "nan at  231 0\n",
      "nan at  244 0\n",
      "nan at  250 0\n",
      "nan at  253 0\n",
      "nan at  257 0\n",
      "nan at  272 0\n",
      "nan at  345 0\n",
      "nan at  355 0\n",
      "nan at  426 0\n",
      "nan at  440 0\n",
      "nan at  472 0\n",
      "nan at  474 0\n",
      "nan at  501 0\n",
      "nan at  512 0\n",
      "nan at  520 0\n",
      "nan at  521 0\n",
      "nan at  554 0\n",
      "nan at  559 0\n",
      "nan at  567 0\n",
      "nan at  599 0\n",
      "nan at  611 0\n",
      "nan at  613 0\n",
      "nan at  622 0\n",
      "nan at  648 0\n",
      "nan at  659 0\n",
      "nan at  717 0\n",
      "nan at  732 0\n",
      "nan at  738 0\n",
      "nan at  741 0\n",
      "prev (743, 2)\n",
      "after (699, 2)\n",
      "Sorted Returns by Observing periods\n",
      "prev (743, 2)\n",
      "after (699, 2)\n",
      "Winners\n",
      " [[ 2.30769231 -0.06976744]\n",
      " [ 0.92631579  0.1420765 ]\n",
      " [ 0.32678984  0.04264578]\n",
      " [ 0.32283465  0.        ]\n",
      " [ 0.3015873   0.06097561]\n",
      " [ 0.28787879 -0.07058824]\n",
      " [ 0.26086957 -0.03940887]\n",
      " [ 0.26027397  0.06521739]\n",
      " [ 0.25203252 -0.22727273]\n",
      " [ 0.24561404 -0.07746479]\n",
      " [ 0.23761545 -0.09837178]\n",
      " [ 0.23021583  0.18128655]\n",
      " [ 0.20661157  0.02054795]\n",
      " [ 0.19014085 -0.05029586]\n",
      " [ 0.19008264 -0.04166667]\n",
      " [ 0.17021277  0.01818182]\n",
      " [ 0.16964286 -0.02290076]\n",
      " [ 0.16556291 -0.10795455]\n",
      " [ 0.16326531  0.07017544]\n",
      " [ 0.16037736  0.43089431]\n",
      " [ 0.16022099 -0.04285714]\n",
      " [ 0.15830116  0.18      ]\n",
      " [ 0.15350877  0.05703422]\n",
      " [ 0.152       0.08333333]\n",
      " [ 0.14110429  0.37634409]\n",
      " [ 0.14102564  0.21348315]\n",
      " [ 0.13364055  0.00813008]\n",
      " [ 0.13194444 -0.11042945]\n",
      " [ 0.12554113 -0.00961538]\n",
      " [ 0.12426036  0.04210526]\n",
      " [ 0.12295082  0.04744526]\n",
      " [ 0.11792453 -0.05063291]\n",
      " [ 0.11711712 -0.06451613]\n",
      " [ 0.10828025  0.01149425]\n",
      " [ 0.1053719  -0.05607477]\n",
      " [ 0.10240964  0.12568306]\n",
      " [ 0.10067114  0.13414634]\n",
      " [ 0.10043668  0.26388889]\n",
      " [ 0.09734513  0.09677419]\n",
      " [ 0.09688889  0.0802269 ]\n",
      " [ 0.09354839  0.33923304]\n",
      " [ 0.08641975 -0.06818182]\n",
      " [ 0.08542714 -0.07407407]\n",
      " [ 0.08510638  0.18627451]\n",
      " [ 0.08433735  0.05555556]\n",
      " [ 0.08333333 -0.04273504]\n",
      " [ 0.0821256  -0.04017857]\n",
      " [ 0.08127208  0.03267974]\n",
      " [ 0.08080808  0.11682243]\n",
      " [ 0.0802139   0.01485149]\n",
      " [ 0.07894737 -0.07317073]\n",
      " [ 0.0787172  -0.05405405]\n",
      " [ 0.07627119  0.1023622 ]\n",
      " [ 0.07567568  0.0201005 ]\n",
      " [ 0.07462687 -0.02777778]\n",
      " [ 0.07264502 -0.02257504]\n",
      " [ 0.07207207  0.29411765]\n",
      " [ 0.07185629 -0.1396648 ]\n",
      " [ 0.07086614 -0.05882353]\n",
      " [ 0.07070707  0.        ]\n",
      " [ 0.07006369 -0.0297619 ]\n",
      " [ 0.06862745 -0.01834862]\n",
      " [ 0.06766917  0.11267606]\n",
      " [ 0.06730769 -0.01801802]\n",
      " [ 0.06716418  0.04895105]\n",
      " [ 0.06540084 -0.00990099]\n",
      " [ 0.06519655  0.0180018 ]\n",
      " [ 0.06470588 -0.16022099]\n",
      " [ 0.06435644  0.1627907 ]\n",
      " [ 0.06369427 -0.04191617]]\n",
      "Losers\n",
      " [[-0.11363636 -0.30769231]\n",
      " [-0.11510791  0.16260163]\n",
      " [-0.11666667  0.03144654]\n",
      " [-0.11666667  0.01886792]\n",
      " [-0.11724138 -0.0234375 ]\n",
      " [-0.11842105 -0.02238806]\n",
      " [-0.11894273 -0.125     ]\n",
      " [-0.11940299  0.03389831]\n",
      " [-0.11956522  0.        ]\n",
      " [-0.12       -0.05371901]\n",
      " [-0.12162162  0.        ]\n",
      " [-0.12254902  0.00558659]\n",
      " [-0.12280702  0.11      ]\n",
      " [-0.125       0.03809524]\n",
      " [-0.12592593 -0.05932203]\n",
      " [-0.12666667 -0.07633588]\n",
      " [-0.12962963 -0.25      ]\n",
      " [-0.13122172  0.03125   ]\n",
      " [-0.13227513  0.07317073]\n",
      " [-0.13235294  0.05084746]\n",
      " [-0.13333333  0.07905983]\n",
      " [-0.1375      0.        ]\n",
      " [-0.13756614  0.10429448]\n",
      " [-0.13821138  0.00943396]\n",
      " [-0.13924051 -0.15441176]\n",
      " [-0.13924051  0.01960784]\n",
      " [-0.13939394  0.11267606]\n",
      " [-0.14035088  0.05442177]\n",
      " [-0.14201183  0.        ]\n",
      " [-0.14519056 -0.08492569]\n",
      " [-0.1461794  -0.04669261]\n",
      " [-0.14814815 -0.39130435]\n",
      " [-0.15037594  0.03539823]\n",
      " [-0.1509434   0.        ]\n",
      " [-0.15151515  0.02678571]\n",
      " [-0.15263158  0.03726708]\n",
      " [-0.15315315  0.        ]\n",
      " [-0.15315315  0.10638298]\n",
      " [-0.15384615  0.10909091]\n",
      " [-0.15420561  0.32596685]\n",
      " [-0.15436242  0.07936508]\n",
      " [-0.15662651 -0.02857143]\n",
      " [-0.15702479 -0.00980392]\n",
      " [-0.15757576  0.09352518]\n",
      " [-0.16071429  0.0070922 ]\n",
      " [-0.16239316  0.17346939]\n",
      " [-0.16384181  0.00675676]\n",
      " [-0.1641791  -0.08035714]\n",
      " [-0.16580311 -0.00621118]\n",
      " [-0.16666667  0.        ]\n",
      " [-0.16666667 -0.05217391]\n",
      " [-0.17619048 -0.12716763]\n",
      " [-0.17647059 -0.07142857]\n",
      " [-0.17880795 -0.10483871]\n",
      " [-0.18238994  0.12307692]\n",
      " [-0.1875     -0.03846154]\n",
      " [-0.18987342  0.109375  ]\n",
      " [-0.19117647 -0.01818182]\n",
      " [-0.19148936  0.0877193 ]\n",
      " [-0.19230769 -0.02857143]\n",
      " [-0.19372385 -0.03995848]\n",
      " [-0.20879121  0.11111111]\n",
      " [-0.21296296 -0.08823529]\n",
      " [-0.21818182  0.20930233]\n",
      " [-0.23728814 -0.08888889]\n",
      " [-0.25        0.08496732]\n",
      " [-0.26037736  0.19897959]\n",
      " [-0.28125     0.09782609]\n",
      " [-0.29545455  0.09677419]\n",
      " [-0.375       0.2       ]]\n",
      "Sum winner = 2.2372874859472103, loser = 0.8774114236304408\n"
     ]
    }
   ],
   "source": [
    "d2017 = dft[(dft.Year == 2017) & (dft.Month <= 3)]\n",
    "d2017_no_date = d2017.drop(columns=['Date', 'Year', 'Month']).T # drop date columns before calculation\n",
    "s_winner, s_loser = strategy(1,1,d2017_no_date.values)[0]\n",
    "print(\"Sum winner = {}, loser = {}\".format(s_winner, s_loser))"
   ]
  },
  {
   "cell_type": "code",
   "execution_count": 203,
   "metadata": {
    "collapsed": false,
    "scrolled": true
   },
   "outputs": [
    {
     "data": {
      "text/html": [
       "<div>\n",
       "<style scoped>\n",
       "    .dataframe tbody tr th:only-of-type {\n",
       "        vertical-align: middle;\n",
       "    }\n",
       "\n",
       "    .dataframe tbody tr th {\n",
       "        vertical-align: top;\n",
       "    }\n",
       "\n",
       "    .dataframe thead th {\n",
       "        text-align: right;\n",
       "    }\n",
       "</style>\n",
       "<table border=\"1\" class=\"dataframe\">\n",
       "  <thead>\n",
       "    <tr style=\"text-align: right;\">\n",
       "      <th></th>\n",
       "      <th>2017-01-31 00:00:00</th>\n",
       "      <th>2017-02-28 00:00:00</th>\n",
       "      <th>2017-03-31 00:00:00</th>\n",
       "    </tr>\n",
       "    <tr>\n",
       "      <th>Stock</th>\n",
       "      <th></th>\n",
       "      <th></th>\n",
       "      <th></th>\n",
       "    </tr>\n",
       "  </thead>\n",
       "  <tbody>\n",
       "    <tr>\n",
       "      <th>PE TB Equity</th>\n",
       "      <td>0.88</td>\n",
       "      <td>0.78</td>\n",
       "      <td>0.79</td>\n",
       "    </tr>\n",
       "    <tr>\n",
       "      <th>RCL TB Equity</th>\n",
       "      <td>6.95</td>\n",
       "      <td>6.15</td>\n",
       "      <td>7.15</td>\n",
       "    </tr>\n",
       "  </tbody>\n",
       "</table>\n",
       "</div>"
      ],
      "text/plain": [
       "               2017-01-31  2017-02-28  2017-03-31\n",
       "Stock                                            \n",
       "PE TB Equity         0.88        0.78        0.79\n",
       "RCL TB Equity        6.95        6.15        7.15"
      ]
     },
     "execution_count": 203,
     "metadata": {},
     "output_type": "execute_result"
    }
   ],
   "source": [
    "debug = dft[['PE TB Equity', 'RCL TB Equity']][(dft.Year == 2017) & (dft.Month <= 3)].T\n",
    "debug"
   ]
  },
  {
   "cell_type": "code",
   "execution_count": 198,
   "metadata": {
    "collapsed": false
   },
   "outputs": [
    {
     "data": {
      "text/plain": [
       "0.012820512820512775"
      ]
     },
     "execution_count": 198,
     "metadata": {},
     "output_type": "execute_result"
    }
   ],
   "source": [
    "0.79/0.78 -1"
   ]
  },
  {
   "cell_type": "code",
   "execution_count": 117,
   "metadata": {
    "collapsed": false
   },
   "outputs": [
    {
     "name": "stdout",
     "output_type": "stream",
     "text": [
      "Detected WL.npy, loading...\n",
      "WL.npy is loaded from disk.\n"
     ]
    }
   ],
   "source": [
    "WL = None\n",
    "periods = [1,3,6,12,24]\n",
    "reload = False\n",
    "if os.path.exists('./WL.npy') and not reload:\n",
    "    print('Detected WL.npy, loading...')\n",
    "    WL = np.load('WL.npy')\n",
    "    print('WL.npy is loaded from disk.')\n",
    "else:\n",
    "    print('No WL.npy detected, calculating new one...')\n",
    "    D = df.values\n",
    "    R, C = D.shape\n",
    "    WL = np.zeros([len(periods),len(periods), R, 2])\n",
    "    WL[:] = np.nan\n",
    "    for io, o in enumerate(periods):\n",
    "        for ih, h in enumerate(periods):\n",
    "            res  = strategy(o, h, D)\n",
    "            WL[io, ih, :res.shape[0], :] =  res\n",
    "    print('Saving WL.npy...')\n",
    "    np.save('WL.npy', WL)\n",
    "    print('WL.npy is saved to disk.')"
   ]
  },
  {
   "cell_type": "code",
   "execution_count": 9,
   "metadata": {
    "collapsed": false
   },
   "outputs": [],
   "source": [
    "def explore(o, h):\n",
    "    oi = periods.index(o)\n",
    "    hi = periods.index(h)\n",
    "    res = WL[oi, hi]\n",
    "    wins = res[:,0]\n",
    "    losers = res[:,1]\n",
    "    w, = plt.plot(wins, label='Sum of winners')\n",
    "    l, = plt.plot(losers, label='Sum of losers')\n",
    "    plt.legend(handles=[w,l])\n",
    "\n",
    "o_slider = widgets.SelectionSlider(\n",
    "    options=periods,\n",
    "    value=1,\n",
    "    description='Observing period (months)',\n",
    "    disabled=False,\n",
    "    continuous_update=True,\n",
    "    orientation='horizontal',\n",
    "    readout=True)\n",
    "\n",
    "h_slider = widgets.SelectionSlider(\n",
    "    options=periods,\n",
    "    value=1,\n",
    "    description='Holding period (months)',\n",
    "    disabled=False,\n",
    "    continuous_update=True,\n",
    "    orientation='horizontal',\n",
    "    readout=True)\n",
    "\n",
    "\n",
    "w = interactive(explore, o=o_slider, h=h_slider)"
   ]
  },
  {
   "cell_type": "code",
   "execution_count": 10,
   "metadata": {
    "collapsed": false
   },
   "outputs": [
    {
     "data": {
      "image/png": "[encoded data removed]",
      "text/plain": [
       "<matplotlib.figure.Figure at 0x11d7d8208>"
      ]
     },
     "metadata": {},
     "output_type": "display_data"
    }
   ],
   "source": [
    "display(w)"
   ]
  },
  {
   "cell_type": "code",
   "execution_count": 11,
   "metadata": {
    "collapsed": false,
    "scrolled": true
   },
   "outputs": [
    {
     "data": {
      "text/plain": [
       "<matplotlib.text.Text at 0x118b200b8>"
      ]
     },
     "execution_count": 11,
     "metadata": {},
     "output_type": "execute_result"
    },
    {
     "data": {
      "image/png": "[encoded data removed]",
      "text/plain": [
       "<matplotlib.figure.Figure at 0x118bf17b8>"
      ]
     },
     "metadata": {},
     "output_type": "display_data"
    }
   ],
   "source": [
    "WL[np.isnan(WL)] = 0\n",
    "WL_ = np.average(WL, axis=2)\n",
    "WLdiff = WL_[:,:,0] / WL_[:,:,1]\n",
    "\n",
    "x = y = np.arange(5)\n",
    "X, Y = np.meshgrid(x, y)\n",
    "\n",
    "fig = plt.figure()\n",
    "ax = fig.gca(projection='3d')\n",
    "surf = ax.plot_surface(X, Y, WLdiff, rstride=1, cstride=1, cmap=cm.coolwarm,\n",
    "    linewidth=0, antialiased=False)\n",
    "fig.colorbar(surf, shrink=0.5, aspect=5)\n",
    "plt.title('Diff winner and losers for each strategy')"
   ]
  },
  {
   "cell_type": "code",
   "execution_count": 12,
   "metadata": {
    "collapsed": false
   },
   "outputs": [
    {
     "data": {
      "text/plain": [
       "1.7693607252899184"
      ]
     },
     "execution_count": 12,
     "metadata": {},
     "output_type": "execute_result"
    }
   ],
   "source": [
    "a = WLdiff\n",
    "np.where(a == a.max())\n",
    "a[1,2]"
   ]
  },
  {
   "cell_type": "code",
   "execution_count": 13,
   "metadata": {
    "collapsed": false
   },
   "outputs": [
    {
     "data": {
      "text/plain": [
       "<matplotlib.image.AxesImage at 0x105116828>"
      ]
     },
     "execution_count": 13,
     "metadata": {},
     "output_type": "execute_result"
    },
    {
     "data": {
      "image/png": "[encoded data removed]",
      "text/plain": [
       "<matplotlib.figure.Figure at 0x118b51b38>"
      ]
     },
     "metadata": {},
     "output_type": "display_data"
    }
   ],
   "source": [
    "plt.imshow(WLdiff, cmap='hot', interpolation='nearest')"
   ]
  },
  {
   "cell_type": "markdown",
   "metadata": {},
   "source": [
    "## Save to Excel"
   ]
  },
  {
   "cell_type": "code",
   "execution_count": 213,
   "metadata": {
    "collapsed": false
   },
   "outputs": [],
   "source": [
    "writer = pd.ExcelWriter('output.xlsx')\n",
    "for io, o in enumerate(periods):\n",
    "    for ih, h in enumerate(periods):\n",
    "        data = WL[io, ih, :, :]\n",
    "        data = data[~np.isnan(data).any(axis=1)]\n",
    "        result_df = pd.DataFrame(data=data, columns=['sum winner', 'sum loser'])\n",
    "        result_df.dropna(how='all', axis=1, inplace=True)\n",
    "        result_df.to_excel(writer,\"{}x{}\".format(o,h))\n",
    "writer.save()"
   ]
  },
  {
   "cell_type": "code",
   "execution_count": null,
   "metadata": {
    "collapsed": true
   },
   "outputs": [],
   "source": []
  }
 ],
 "metadata": {
  "kernelspec": {
   "display_name": "Python [conda env:py3]",
   "language": "python",
   "name": "conda-env-py3-py"
  },
  "language_info": {
   "codemirror_mode": {
    "name": "ipython",
    "version": 3
   },
   "file_extension": ".py",
   "mimetype": "text/x-python",
   "name": "python",
   "nbconvert_exporter": "python",
   "pygments_lexer": "ipython3",
   "version": "3.5.2"
  },
  "widgets": {
   "state": {
    "55c1d53883f54bfb83b110206fb9f0d0": {
     "views": [
      {
       "cell_index": 9
      }
     ]
    },
    "e5d0692cc4fe46fb973dcc38d7c67e5b": {
     "views": [
      {
       "cell_index": 5
      }
     ]
    }
   },
   "version": "1.2.0"
  }
 },
 "nbformat": 4,
 "nbformat_minor": 2
}
