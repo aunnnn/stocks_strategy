{
 "cells": [
  {
   "cell_type": "code",
   "execution_count": 384,
   "metadata": {
    "collapsed": true
   },
   "outputs": [],
   "source": [
    "import pandas as pd\n",
    "import math\n",
    "import matplotlib.pyplot as plt\n",
    "import ipywidgets as widgets\n",
    "from IPython.display import display"
   ]
  },
  {
   "cell_type": "code",
   "execution_count": 385,
   "metadata": {
    "collapsed": true
   },
   "outputs": [],
   "source": [
    "%matplotlib inline"
   ]
  },
  {
   "cell_type": "code",
   "execution_count": 386,
   "metadata": {
    "collapsed": false
   },
   "outputs": [],
   "source": [
    "df = pd.read_csv(\"price_data.csv\")\n",
    "\n",
    "# Set first column name\n",
    "df.columns.values[0] = \"Stock\"\n",
    "\n",
    "# Make that column indexes (row)\n",
    "df = df.set_index('Stock')\n",
    "\n",
    "# Make columns datetime\n",
    "df.columns = pd.to_datetime(df.columns)\n",
    "\n",
    "# Make all numeric\n",
    "df = df.apply(pd.to_numeric, errors=\"coerce\")\n",
    "\n",
    "# drop row if all NaN\n",
    "df.dropna(how='all', inplace=True)\n",
    "\n",
    "# drop column if all NaN\n",
    "df.dropna(how='all', axis=1, inplace=True)"
   ]
  },
  {
   "cell_type": "code",
   "execution_count": 387,
   "metadata": {
    "collapsed": false
   },
   "outputs": [
    {
     "data": {
      "text/html": [
       "<div>\n",
       "<table border=\"1\" class=\"dataframe\">\n",
       "  <thead>\n",
       "    <tr style=\"text-align: right;\">\n",
       "      <th></th>\n",
       "      <th>1990-01-31 00:00:00</th>\n",
       "      <th>1990-02-28 00:00:00</th>\n",
       "      <th>1990-03-30 00:00:00</th>\n",
       "      <th>1990-04-30 00:00:00</th>\n",
       "      <th>1990-05-31 00:00:00</th>\n",
       "      <th>1990-06-29 00:00:00</th>\n",
       "      <th>1990-07-31 00:00:00</th>\n",
       "      <th>1990-08-31 00:00:00</th>\n",
       "      <th>1990-09-28 00:00:00</th>\n",
       "      <th>1990-10-31 00:00:00</th>\n",
       "      <th>...</th>\n",
       "      <th>2017-09-29 00:00:00</th>\n",
       "      <th>2017-10-31 00:00:00</th>\n",
       "      <th>2017-11-30 00:00:00</th>\n",
       "      <th>2017-12-29 00:00:00</th>\n",
       "      <th>2018-01-31 00:00:00</th>\n",
       "      <th>2018-02-28 00:00:00</th>\n",
       "      <th>2018-03-30 00:00:00</th>\n",
       "      <th>2018-04-30 00:00:00</th>\n",
       "      <th>2018-05-31 00:00:00</th>\n",
       "      <th>2018-06-29 00:00:00</th>\n",
       "    </tr>\n",
       "    <tr>\n",
       "      <th>Stock</th>\n",
       "      <th></th>\n",
       "      <th></th>\n",
       "      <th></th>\n",
       "      <th></th>\n",
       "      <th></th>\n",
       "      <th></th>\n",
       "      <th></th>\n",
       "      <th></th>\n",
       "      <th></th>\n",
       "      <th></th>\n",
       "      <th></th>\n",
       "      <th></th>\n",
       "      <th></th>\n",
       "      <th></th>\n",
       "      <th></th>\n",
       "      <th></th>\n",
       "      <th></th>\n",
       "      <th></th>\n",
       "      <th></th>\n",
       "      <th></th>\n",
       "      <th></th>\n",
       "    </tr>\n",
       "  </thead>\n",
       "  <tbody>\n",
       "    <tr>\n",
       "      <th>2S TB Equity</th>\n",
       "      <td>NaN</td>\n",
       "      <td>NaN</td>\n",
       "      <td>NaN</td>\n",
       "      <td>NaN</td>\n",
       "      <td>NaN</td>\n",
       "      <td>NaN</td>\n",
       "      <td>NaN</td>\n",
       "      <td>NaN</td>\n",
       "      <td>NaN</td>\n",
       "      <td>NaN</td>\n",
       "      <td>...</td>\n",
       "      <td>4.27</td>\n",
       "      <td>3.98</td>\n",
       "      <td>4.39</td>\n",
       "      <td>4.44</td>\n",
       "      <td>4.30</td>\n",
       "      <td>4.20</td>\n",
       "      <td>4.00</td>\n",
       "      <td>3.78</td>\n",
       "      <td>3.5</td>\n",
       "      <td>3.06</td>\n",
       "    </tr>\n",
       "    <tr>\n",
       "      <th>A TB Equity</th>\n",
       "      <td>NaN</td>\n",
       "      <td>NaN</td>\n",
       "      <td>NaN</td>\n",
       "      <td>NaN</td>\n",
       "      <td>NaN</td>\n",
       "      <td>NaN</td>\n",
       "      <td>NaN</td>\n",
       "      <td>NaN</td>\n",
       "      <td>NaN</td>\n",
       "      <td>NaN</td>\n",
       "      <td>...</td>\n",
       "      <td>6.50</td>\n",
       "      <td>6.55</td>\n",
       "      <td>6.55</td>\n",
       "      <td>6.60</td>\n",
       "      <td>6.65</td>\n",
       "      <td>6.70</td>\n",
       "      <td>6.70</td>\n",
       "      <td>6.70</td>\n",
       "      <td>6.7</td>\n",
       "      <td>6.70</td>\n",
       "    </tr>\n",
       "    <tr>\n",
       "      <th>AAV TB Equity</th>\n",
       "      <td>NaN</td>\n",
       "      <td>NaN</td>\n",
       "      <td>NaN</td>\n",
       "      <td>NaN</td>\n",
       "      <td>NaN</td>\n",
       "      <td>NaN</td>\n",
       "      <td>NaN</td>\n",
       "      <td>NaN</td>\n",
       "      <td>NaN</td>\n",
       "      <td>NaN</td>\n",
       "      <td>...</td>\n",
       "      <td>6.55</td>\n",
       "      <td>6.40</td>\n",
       "      <td>6.20</td>\n",
       "      <td>6.15</td>\n",
       "      <td>5.70</td>\n",
       "      <td>5.55</td>\n",
       "      <td>5.15</td>\n",
       "      <td>5.85</td>\n",
       "      <td>5.5</td>\n",
       "      <td>5.00</td>\n",
       "    </tr>\n",
       "    <tr>\n",
       "      <th>ABICO TB Equity</th>\n",
       "      <td>NaN</td>\n",
       "      <td>NaN</td>\n",
       "      <td>NaN</td>\n",
       "      <td>NaN</td>\n",
       "      <td>NaN</td>\n",
       "      <td>NaN</td>\n",
       "      <td>NaN</td>\n",
       "      <td>NaN</td>\n",
       "      <td>NaN</td>\n",
       "      <td>NaN</td>\n",
       "      <td>...</td>\n",
       "      <td>9.75</td>\n",
       "      <td>9.75</td>\n",
       "      <td>9.20</td>\n",
       "      <td>9.45</td>\n",
       "      <td>8.85</td>\n",
       "      <td>7.85</td>\n",
       "      <td>7.95</td>\n",
       "      <td>7.85</td>\n",
       "      <td>6.3</td>\n",
       "      <td>5.95</td>\n",
       "    </tr>\n",
       "    <tr>\n",
       "      <th>ABPIF TB Equity</th>\n",
       "      <td>NaN</td>\n",
       "      <td>NaN</td>\n",
       "      <td>NaN</td>\n",
       "      <td>NaN</td>\n",
       "      <td>NaN</td>\n",
       "      <td>NaN</td>\n",
       "      <td>NaN</td>\n",
       "      <td>NaN</td>\n",
       "      <td>NaN</td>\n",
       "      <td>NaN</td>\n",
       "      <td>...</td>\n",
       "      <td>8.45</td>\n",
       "      <td>8.60</td>\n",
       "      <td>8.55</td>\n",
       "      <td>8.55</td>\n",
       "      <td>8.90</td>\n",
       "      <td>8.70</td>\n",
       "      <td>8.50</td>\n",
       "      <td>8.55</td>\n",
       "      <td>8.5</td>\n",
       "      <td>8.50</td>\n",
       "    </tr>\n",
       "  </tbody>\n",
       "</table>\n",
       "<p>5 rows × 342 columns</p>\n",
       "</div>"
      ],
      "text/plain": [
       "                 1990-01-31  1990-02-28  1990-03-30  1990-04-30  1990-05-31  \\\n",
       "Stock                                                                         \n",
       "2S TB Equity            NaN         NaN         NaN         NaN         NaN   \n",
       "A TB Equity             NaN         NaN         NaN         NaN         NaN   \n",
       "AAV TB Equity           NaN         NaN         NaN         NaN         NaN   \n",
       "ABICO TB Equity         NaN         NaN         NaN         NaN         NaN   \n",
       "ABPIF TB Equity         NaN         NaN         NaN         NaN         NaN   \n",
       "\n",
       "                 1990-06-29  1990-07-31  1990-08-31  1990-09-28  1990-10-31  \\\n",
       "Stock                                                                         \n",
       "2S TB Equity            NaN         NaN         NaN         NaN         NaN   \n",
       "A TB Equity             NaN         NaN         NaN         NaN         NaN   \n",
       "AAV TB Equity           NaN         NaN         NaN         NaN         NaN   \n",
       "ABICO TB Equity         NaN         NaN         NaN         NaN         NaN   \n",
       "ABPIF TB Equity         NaN         NaN         NaN         NaN         NaN   \n",
       "\n",
       "                    ...      2017-09-29  2017-10-31  2017-11-30  2017-12-29  \\\n",
       "Stock               ...                                                       \n",
       "2S TB Equity        ...            4.27        3.98        4.39        4.44   \n",
       "A TB Equity         ...            6.50        6.55        6.55        6.60   \n",
       "AAV TB Equity       ...            6.55        6.40        6.20        6.15   \n",
       "ABICO TB Equity     ...            9.75        9.75        9.20        9.45   \n",
       "ABPIF TB Equity     ...            8.45        8.60        8.55        8.55   \n",
       "\n",
       "                 2018-01-31  2018-02-28  2018-03-30  2018-04-30  2018-05-31  \\\n",
       "Stock                                                                         \n",
       "2S TB Equity           4.30        4.20        4.00        3.78         3.5   \n",
       "A TB Equity            6.65        6.70        6.70        6.70         6.7   \n",
       "AAV TB Equity          5.70        5.55        5.15        5.85         5.5   \n",
       "ABICO TB Equity        8.85        7.85        7.95        7.85         6.3   \n",
       "ABPIF TB Equity        8.90        8.70        8.50        8.55         8.5   \n",
       "\n",
       "                 2018-06-29  \n",
       "Stock                        \n",
       "2S TB Equity           3.06  \n",
       "A TB Equity            6.70  \n",
       "AAV TB Equity          5.00  \n",
       "ABICO TB Equity        5.95  \n",
       "ABPIF TB Equity        8.50  \n",
       "\n",
       "[5 rows x 342 columns]"
      ]
     },
     "execution_count": 387,
     "metadata": {},
     "output_type": "execute_result"
    }
   ],
   "source": [
    "df.head()"
   ]
  },
  {
   "cell_type": "code",
   "execution_count": 388,
   "metadata": {
    "collapsed": false
   },
   "outputs": [
    {
     "name": "stdout",
     "output_type": "stream",
     "text": [
      "Left with 743 stocks, and 342 date columns\n"
     ]
    }
   ],
   "source": [
    "print(\"Left with {} stocks, and {} date columns\".format(df.shape[0], df.shape[1]))"
   ]
  },
  {
   "cell_type": "code",
   "execution_count": 480,
   "metadata": {
    "collapsed": false
   },
   "outputs": [
    {
     "data": {
      "image/png": "[encoded data removed]",
      "text/plain": [
       "<matplotlib.figure.Figure at 0x1207bc3c8>"
      ]
     },
     "metadata": {},
     "output_type": "display_data"
    }
   ],
   "source": [
    "\n",
    "@interact(index=(0,len(df.index)-1))\n",
    "def view_stocks(index=0):\n",
    "    i = index\n",
    "    df.iloc[i].plot(kind='line', title=df.index[i])"
   ]
  },
  {
   "cell_type": "code",
   "execution_count": 469,
   "metadata": {
    "collapsed": false
   },
   "outputs": [],
   "source": [
    "# o, h is number of months\n",
    "def strategy(o, h, M):\n",
    "    nrows, ncols = M.shape\n",
    "    \n",
    "    oh_total_range = o+1+h\n",
    "    num_possible_ranges = ncols - oh_total_range + 1\n",
    "    \n",
    "    if num_possible_ranges <= 0:\n",
    "        raise ValueError('num_possible_ranges must > 0.')\n",
    "    \n",
    "    RO = np.zeros([nrows, num_possible_ranges])\n",
    "    RH = np.zeros([nrows, num_possible_ranges])\n",
    "    \n",
    "    # for each stock\n",
    "    for r in range(nrows):\n",
    "        \n",
    "        # for each o/h range til the end\n",
    "        for ic in range(num_possible_ranges):\n",
    "            \n",
    "            m = M[r, ic:ic+oh_total_range] # get that range\n",
    "            if np.isnan(m).any(): # one value is nan -> ignore stock at this range\n",
    "                RO[r, ic] = np.nan\n",
    "                RH[r, ic] = np.nan\n",
    "                continue\n",
    "                \n",
    "            p0 = m[0] # start\n",
    "            p1 = m[o] # start - observe\n",
    "            p2 = m[o + h] # observe - hold\n",
    "            \n",
    "            # How to handle divided by 0?\n",
    "            if p0 == 0:\n",
    "                returnO = p1\n",
    "            else:\n",
    "                returnO = p1/p0 - 1\n",
    "                \n",
    "                \n",
    "            if p1 == 0:\n",
    "                returnH = p2\n",
    "            else:\n",
    "                returnH = p2/p1 - 1\n",
    "\n",
    "#             returnO = p1/p0 - 1\n",
    "#             returnH = p2/p1 - 1                \n",
    "                \n",
    "            RO[r, ic]= returnO\n",
    "            RH[r, ic] = returnH\n",
    "    \n",
    "    S_W = np.zeros(num_possible_ranges)\n",
    "    S_L = np.zeros(num_possible_ranges)\n",
    "    \n",
    "    # calculate sum of winner/loser on holding period\n",
    "    for i in range(num_possible_ranges):\n",
    "        ro, rh = RO[:, i], RH[:, i]\n",
    "\n",
    "        oh = np.vstack([ro, rh]).T \n",
    "        oh = oh[~np.isnan(oh).any(axis=1)] # remove a row that has nan\n",
    "        sorted_inds_desc = oh[:,0].argsort()[::-1]\n",
    "        oh = oh[sorted_inds_desc]\n",
    "        decile_num = math.ceil(oh.shape[0]/10)\n",
    "\n",
    "        winners = oh[:decile_num]\n",
    "        losers = oh[-decile_num:]\n",
    "\n",
    "        sum_winners_hold = winners[:,1].sum()\n",
    "        sum_losers_hold = losers[:,1].sum()\n",
    "        \n",
    "        S_W[i] = sum_winners_hold\n",
    "        S_L[i] = sum_losers_hold\n",
    "    return np.vstack([S_W, S_L]).T\n",
    "    "
   ]
  },
  {
   "cell_type": "code",
   "execution_count": 470,
   "metadata": {
    "collapsed": false
   },
   "outputs": [
    {
     "name": "stdout",
     "output_type": "stream",
     "text": [
      "No WL.npy detected, calculating new one...\n",
      "Saving WL.npy...\n",
      "WL.npy is saved to disk.\n"
     ]
    }
   ],
   "source": [
    "WL = None\n",
    "periods = [1,3,6,12,24]\n",
    "reload = False\n",
    "if os.path.exists('./WL.npy') and not reload:\n",
    "    print('Detected WL.npy, loading...')\n",
    "    WL = np.load('WL.npy')\n",
    "    print('WL.npy is loaded from disk.')\n",
    "else:\n",
    "    print('No WL.npy detected, calculating new one...')\n",
    "    D = df.values\n",
    "    R, C = D.shape\n",
    "    WL = np.zeros([len(periods),len(periods), R, 2])\n",
    "    WL[:] = np.nan\n",
    "    for io, o in enumerate(periods):\n",
    "        for ih, h in enumerate(periods):\n",
    "            res  = strategy(o, h, D)\n",
    "            WL[io, ih, :res.shape[0], :] =  res\n",
    "    print('Saving WL.npy...')\n",
    "    np.save('WL.npy', WL)\n",
    "    print('WL.npy is saved to disk.')"
   ]
  },
  {
   "cell_type": "code",
   "execution_count": 487,
   "metadata": {
    "collapsed": false
   },
   "outputs": [],
   "source": [
    "def explore(o, h):\n",
    "    oi = periods.index(o)\n",
    "    hi = periods.index(h)\n",
    "    res = WL[oi, hi]\n",
    "    wins = res[:,0]\n",
    "    losers = res[:,1]\n",
    "    w, = plt.plot(wins, label='Sum of winners')\n",
    "    l, = plt.plot(losers, label='Sum of losers')\n",
    "    plt.legend(handles=[w,l])\n",
    "\n",
    "o_slider = widgets.SelectionSlider(\n",
    "    options=periods,\n",
    "    value=1,\n",
    "    description='Observing period (months)',\n",
    "    disabled=False,\n",
    "    continuous_update=True,\n",
    "    orientation='horizontal',\n",
    "    readout=True)\n",
    "\n",
    "h_slider = widgets.SelectionSlider(\n",
    "    options=periods,\n",
    "    value=1,\n",
    "    description='Holding period (months)',\n",
    "    disabled=False,\n",
    "    continuous_update=True,\n",
    "    orientation='horizontal',\n",
    "    readout=True)\n",
    "\n",
    "\n",
    "w = interactive(explore, o=o_slider, h=h_slider)"
   ]
  },
  {
   "cell_type": "code",
   "execution_count": 488,
   "metadata": {
    "collapsed": false
   },
   "outputs": [
    {
     "data": {
      "image/png": "[encoded data removed]",
      "text/plain": [
       "<matplotlib.figure.Figure at 0x120857518>"
      ]
     },
     "metadata": {},
     "output_type": "display_data"
    }
   ],
   "source": [
    "display(w)"
   ]
  },
  {
   "cell_type": "code",
   "execution_count": null,
   "metadata": {
    "collapsed": true
   },
   "outputs": [],
   "source": []
  }
 ],
 "metadata": {
  "kernelspec": {
   "display_name": "Python [conda env:py3]",
   "language": "python",
   "name": "conda-env-py3-py"
  },
  "language_info": {
   "codemirror_mode": {
    "name": "ipython",
    "version": 3
   },
   "file_extension": ".py",
   "mimetype": "text/x-python",
   "name": "python",
   "nbconvert_exporter": "python",
   "pygments_lexer": "ipython3",
   "version": "3.5.2"
  },
  "widgets": {
   "state": {
    "c0df10638c6846a0ae39ad5a3be8ee8e": {
     "views": [
      {
       "cell_index": 9
      }
     ]
    },
    "fcb571a240454c9cb9c99cfd2d6fdbbf": {
     "views": [
      {
       "cell_index": 5
      }
     ]
    }
   },
   "version": "1.2.0"
  }
 },
 "nbformat": 4,
 "nbformat_minor": 2
}
